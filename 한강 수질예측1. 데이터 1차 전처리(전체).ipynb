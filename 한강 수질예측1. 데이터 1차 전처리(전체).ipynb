{
 "cells": [
  {
   "cell_type": "code",
   "execution_count": 1,
   "id": "c7ed2b4f",
   "metadata": {},
   "outputs": [],
   "source": [
    "import pandas as pd\n",
    "import numpy as np"
   ]
  },
  {
   "cell_type": "code",
   "execution_count": 2,
   "id": "0434c1d1",
   "metadata": {},
   "outputs": [],
   "source": [
    "import warnings \n",
    "warnings.filterwarnings(action='ignore')"
   ]
  },
  {
   "cell_type": "code",
   "execution_count": 3,
   "id": "00913e5c",
   "metadata": {},
   "outputs": [],
   "source": [
    "import matplotlib.pyplot as plt\n",
    "import matplotlib.font_manager as fm\n",
    "plt.style.use('seaborn-whitegrid')\n",
    "\n",
    "import seaborn as sns\n",
    "plt.style.use('seaborn-whitegrid')\n",
    "from pylab import rcParams\n",
    "%matplotlib inline\n",
    "import itertools\n",
    "\n",
    "#한글폰트 적용\n",
    "path = 'C:/Windows/Fonts/gulim.ttc'\n",
    "font_name = fm.FontProperties(fname=path, size=50).get_name()\n",
    "plt.rc('font', family=font_name)"
   ]
  },
  {
   "cell_type": "markdown",
   "id": "7f5b7052",
   "metadata": {},
   "source": [
    "### TOC 환산 적용  --> (0.63 ~ 0.77) * COD -->      0.7*COD로 TOC 계산 "
   ]
  },
  {
   "cell_type": "code",
   "execution_count": 10,
   "id": "e8d3644b",
   "metadata": {
    "scrolled": true
   },
   "outputs": [],
   "source": [
    "df1 = pd.read_csv('잠실.csv')\n",
    "#df1.head()"
   ]
  },
  {
   "cell_type": "code",
   "execution_count": 11,
   "id": "a0552790",
   "metadata": {},
   "outputs": [],
   "source": [
    "df2 = pd.read_csv('구의.csv')\n",
    "#df2.head()"
   ]
  },
  {
   "cell_type": "code",
   "execution_count": 12,
   "id": "6d135b11",
   "metadata": {},
   "outputs": [],
   "source": [
    "df3 = pd.read_csv('암사.csv')\n",
    "#df3.head()"
   ]
  },
  {
   "cell_type": "code",
   "execution_count": 13,
   "id": "1e2b9af5",
   "metadata": {},
   "outputs": [],
   "source": [
    "df4 = pd.read_csv('영등포.csv')\n",
    "#df4.head()"
   ]
  },
  {
   "cell_type": "code",
   "execution_count": 14,
   "id": "98ebedb0",
   "metadata": {},
   "outputs": [],
   "source": [
    "df5 = pd.read_csv('보광.csv')\n",
    "#df5.head()"
   ]
  },
  {
   "cell_type": "code",
   "execution_count": 15,
   "id": "668e6367",
   "metadata": {},
   "outputs": [],
   "source": [
    "df6 = pd.read_csv('노량진.csv')\n",
    "#df6.head()"
   ]
  },
  {
   "cell_type": "markdown",
   "id": "b266773b",
   "metadata": {},
   "source": [
    "#### 결측치 처리 --> 선형보간법(시계열 결측값 처리에서 가장 일반적인 방법). GAN 보강은 해당 데이터에는 과한 경우에 해당한다고 여김"
   ]
  },
  {
   "cell_type": "code",
   "execution_count": 16,
   "id": "d05d07a2",
   "metadata": {},
   "outputs": [],
   "source": [
    "from scipy import interpolate"
   ]
  },
  {
   "cell_type": "code",
   "execution_count": 17,
   "id": "7f938fe9",
   "metadata": {},
   "outputs": [],
   "source": [
    "#  두 변수 중간 사이값에 대한 보간법 \n",
    "df1 = df1.interpolate(method='linear')\n",
    "df2 = df2.interpolate(method='linear')\n",
    "df3 = df3.interpolate(method='linear')\n",
    "df4 = df4.interpolate(method='linear')\n",
    "df5 = df5.interpolate(method='linear')\n",
    "df6 = df6.interpolate(method='linear')"
   ]
  },
  {
   "cell_type": "code",
   "execution_count": 18,
   "id": "c3317ef0",
   "metadata": {
    "scrolled": true
   },
   "outputs": [],
   "source": [
    "# print(df1.isna().sum())\n",
    "# print(df2.isna().sum())\n",
    "# print(df3.isna().sum())\n",
    "# print(df4.isna().sum())\n",
    "# print(df5.isna().sum())\n",
    "# print(df6.isna().sum())"
   ]
  },
  {
   "cell_type": "markdown",
   "id": "4a854f96",
   "metadata": {},
   "source": [
    "#### 수정 데이터셋 완성"
   ]
  },
  {
   "cell_type": "code",
   "execution_count": 20,
   "id": "cf5c0653",
   "metadata": {},
   "outputs": [],
   "source": [
    "df1.to_csv('잠실(보간법).csv',encoding = \"cp949\",index=False)\n",
    "df2.to_csv('구의(보간법).csv', encoding = \"cp949\",index=False)\n",
    "df3.to_csv('암사(보간법).csv', encoding = \"cp949\",index=False)\n",
    "df4.to_csv('영등포(보간법).csv', encoding = \"cp949\",index=False)\n",
    "df5.to_csv('보광(보간법).csv', encoding = \"cp949\",index=False)\n",
    "df6.to_csv('노량진(보간법).csv', encoding = \"cp949\",index=False)"
   ]
  }
 ],
 "metadata": {
  "kernelspec": {
   "display_name": "Python 3",
   "language": "python",
   "name": "python3"
  },
  "language_info": {
   "codemirror_mode": {
    "name": "ipython",
    "version": 3
   },
   "file_extension": ".py",
   "mimetype": "text/x-python",
   "name": "python",
   "nbconvert_exporter": "python",
   "pygments_lexer": "ipython3",
   "version": "3.8.8"
  }
 },
 "nbformat": 4,
 "nbformat_minor": 5
}
